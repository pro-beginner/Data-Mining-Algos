{
 "cells": [
  {
   "cell_type": "code",
   "execution_count": 37,
   "metadata": {
    "collapsed": true
   },
   "outputs": [],
   "source": [
    "import numpy as ny\n",
    "from numpy import *\n",
    "from collections import Counter\n",
    "import matplotlib.pyplot as plt\n",
    "%matplotlib inline\n",
    "from sklearn import datasets\n",
    "from sklearn.metrics import accuracy_score\n",
    "from sklearn.preprocessing import MinMaxScaler\n",
    "from sklearn.cross_validation import train_test_split"
   ]
  },
  {
   "cell_type": "markdown",
   "metadata": {},
   "source": [
    "<h2>Data Preprrocessig</h2>"
   ]
  },
  {
   "cell_type": "code",
   "execution_count": 38,
   "metadata": {},
   "outputs": [],
   "source": [
    "iris = datasets.load_iris()\n",
    "data = MinMaxScaler().fit_transform(iris[\"data\"])\n",
    "labels = ny.array([1 if target == 2 else 0 for target in iris.target])\n",
    "train_X,test_X,train_y,test_y = train_test_split(data,labels,test_size=0.25,random_state=50)"
   ]
  },
  {
   "cell_type": "markdown",
   "metadata": {},
   "source": [
    "<h2>Logistic Regression Classifier Class</h2>"
   ]
  },
  {
   "cell_type": "code",
   "execution_count": 48,
   "metadata": {
    "collapsed": true
   },
   "outputs": [],
   "source": [
    "class LogisticRegression(object):\n",
    "    \n",
    "    def __init__(self, X, y,alpha):\n",
    "        self.H = []\n",
    "        self.W = ny.array([int(ny.random.rand() * 10) for i in ny.arange(5)]).reshape(5, 1)\n",
    "        self.X = ny.array([ny.append(row, 1) for row in X]) # add 1 as the bias to each row in the train data\n",
    "        self.y = y.reshape(1, len(y))\n",
    "        self.learning_rate = alpha\n",
    "    \n",
    "    def sigmoid(self, x):\n",
    "        return 1.0 / (1.0 + ny.exp(-x))\n",
    "    \n",
    "    def train(self, epochs):\n",
    "        for i in range(epochs):\n",
    "            self.H = ny.matmul(self.W.transpose(), self.X.transpose())\n",
    "            self.H = ny.array([self.sigmoid(h) for h in self.H])\n",
    "            nabla = -ny.matmul((self.y - self.H), self.X).transpose()\n",
    "            self.W = self.W - self.learning_rate * nabla\n",
    "    \n",
    "    def predict(self, tup):\n",
    "        tup = ny.append(tup, 1)\n",
    "        prediction = ny.matmul(self.W.transpose(), tup.transpose())\n",
    "        return self.sigmoid(prediction)"
   ]
  },
  {
   "cell_type": "code",
   "execution_count": 49,
   "metadata": {},
   "outputs": [
    {
     "name": "stdout",
     "output_type": "stream",
     "text": [
      "92.1052631579\n"
     ]
    }
   ],
   "source": [
    "obj = LogisticRegression(train_X, train_y,alpha=0.01)\n",
    "obj.train(epochs = 100)\n",
    "predictions = []\n",
    "for row in test_X:\n",
    "    predictions.append(obj.predict(row))\n",
    "predictions = ny.array([1 if i >= 0.5 else 0 for i in predictions])\n",
    "print(accuracy_score(test_y, predictions)*100)"
   ]
  },
  {
   "cell_type": "code",
   "execution_count": null,
   "metadata": {
    "collapsed": true
   },
   "outputs": [],
   "source": []
  },
  {
   "cell_type": "code",
   "execution_count": null,
   "metadata": {
    "collapsed": true
   },
   "outputs": [],
   "source": []
  }
 ],
 "metadata": {
  "kernelspec": {
   "display_name": "Python 3",
   "language": "python",
   "name": "python3"
  },
  "language_info": {
   "codemirror_mode": {
    "name": "ipython",
    "version": 3
   },
   "file_extension": ".py",
   "mimetype": "text/x-python",
   "name": "python",
   "nbconvert_exporter": "python",
   "pygments_lexer": "ipython3",
   "version": "3.6.2"
  }
 },
 "nbformat": 4,
 "nbformat_minor": 1
}

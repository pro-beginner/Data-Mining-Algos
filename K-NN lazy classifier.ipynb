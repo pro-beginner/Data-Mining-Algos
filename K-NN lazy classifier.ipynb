{
 "cells": [
  {
   "cell_type": "code",
   "execution_count": 10,
   "metadata": {},
   "outputs": [],
   "source": [
    "import numpy as ny\n",
    "import math\n",
    "import random\n",
    "import warnings\n",
    "from matplotlib import pyplot as plt\n",
    "%matplotlib inline\n",
    "from collections import Counter\n",
    "from sklearn import datasets\n",
    "from sklearn.metrics import accuracy_score\n",
    "from sklearn.preprocessing import MinMaxScaler\n",
    "from sklearn.cross_validation import train_test_split\n",
    "\n",
    "iris = datasets.load_iris()\n",
    "data = iris[\"data\"]\n",
    "target = iris[\"target\"]\n",
    "\n",
    "norm_iris_data = MinMaxScaler().fit_transform(data)\n",
    "\n",
    "\n",
    "train_X, test_X, train_y, test_y = train_test_split(data, target, test_size = 0.25, random_state=33)\n"
   ]
  },
  {
   "cell_type": "code",
   "execution_count": 14,
   "metadata": {},
   "outputs": [
    {
     "name": "stdout",
     "output_type": "stream",
     "text": [
      "Sort by keys:\n",
      "1\n",
      "The real value 1\n"
     ]
    }
   ],
   "source": [
    "# print ('Sort by keys:')\n",
    "# for key in sorted(dist_class_dict.keys()):\n",
    "#     print (\"%s: %s\" % (key, dist_class_dict[key]))\n",
    "predictions = []\n",
    "cand_1 = test_X[0]\n",
    "\n",
    "nearest_classes = []\n",
    "\n",
    "dist_class_dict = {}\n",
    "\n",
    "\n",
    "\n",
    "k = 3\n",
    "for i in range(len(train_X)):\n",
    "    x = ny.linalg.norm(cand_1-train_X[i])\n",
    "    dist_class_dict[x] = train_y[i]\n",
    "\n",
    "print ('Sort by keys:')\n",
    "for key in sorted(dist_class_dict.keys()):\n",
    "    nearest_classes.append(dist_class_dict[key])\n",
    "\n",
    "k_nearest_classes = nearest_classes[:k]\n",
    "counts = Counter(k_nearest_classes)\n",
    "predictions.append(counts.most_common(1)[0][0])\n",
    "\n",
    "print(\"predicted val\",predictions[0])\n",
    "print(\"The real value\",test_y[0])"
   ]
  },
  {
   "cell_type": "code",
   "execution_count": null,
   "metadata": {
    "collapsed": true
   },
   "outputs": [],
   "source": []
  }
 ],
 "metadata": {
  "kernelspec": {
   "display_name": "Python 3",
   "language": "python",
   "name": "python3"
  },
  "language_info": {
   "codemirror_mode": {
    "name": "ipython",
    "version": 3
   },
   "file_extension": ".py",
   "mimetype": "text/x-python",
   "name": "python",
   "nbconvert_exporter": "python",
   "pygments_lexer": "ipython3",
   "version": "3.6.2"
  }
 },
 "nbformat": 4,
 "nbformat_minor": 1
}

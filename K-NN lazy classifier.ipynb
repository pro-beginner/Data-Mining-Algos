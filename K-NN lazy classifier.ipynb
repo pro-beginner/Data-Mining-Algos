{
 "cells": [
  {
   "cell_type": "code",
   "execution_count": 23,
   "metadata": {},
   "outputs": [],
   "source": [
    "import numpy as ny\n",
    "import math\n",
    "import random\n",
    "import warnings\n",
    "from matplotlib import pyplot as plt\n",
    "%matplotlib inline\n",
    "from collections import Counter\n",
    "from sklearn import datasets\n",
    "from sklearn.metrics import accuracy_score\n",
    "from sklearn.preprocessing import MinMaxScaler\n",
    "from sklearn.cross_validation import train_test_split"
   ]
  },
  {
   "cell_type": "markdown",
   "metadata": {},
   "source": [
    "<h2>Data Preprocessing </h2>"
   ]
  },
  {
   "cell_type": "code",
   "execution_count": 33,
   "metadata": {
    "collapsed": true
   },
   "outputs": [],
   "source": [
    "iris = datasets.load_iris()\n",
    "data = iris[\"data\"]\n",
    "target = iris[\"target\"]\n",
    "\n",
    "norm_iris_data = MinMaxScaler().fit_transform(data)\n",
    "train_X, test_X, train_y, test_y = train_test_split(norm_iris_data, target, test_size = 0.25)"
   ]
  },
  {
   "cell_type": "markdown",
   "metadata": {},
   "source": [
    "<h2>K NN Classifier Class </h2>"
   ]
  },
  {
   "cell_type": "code",
   "execution_count": 36,
   "metadata": {},
   "outputs": [],
   "source": [
    "class K_NN(object):\n",
    "    \n",
    "    def __init__(self, k):\n",
    "        self.k = k\n",
    "        self.predictions = []\n",
    "        \n",
    "    def classify_data(self):\n",
    "        for t in ny.arange(len(test_X)):\n",
    "            nearest_classes = []\n",
    "            distance_class_dict = {}\n",
    "            candidate = test_X[t]\n",
    "            \n",
    "            # finding the distance of the chosen cand from all the tuples in the Train_set data.\n",
    "            for i in ny.arange(len(train_X)):\n",
    "                x = ny.linalg.norm(candidate-train_X[i])\n",
    "                distance_class_dict[x] = train_y[i]\n",
    "\n",
    "            #Sorting the distances\n",
    "            for key in sorted(distance_class_dict.keys()):\n",
    "                nearest_classes.append(distance_class_dict[key])\n",
    "\n",
    "            K_nearest_classes = nearest_classes[:self.k] # gives k nearest points\n",
    "            counts = Counter(K_nearest_classes)\n",
    "            self.predictions.append(counts.most_common(1)[0][0]) #  assigning the majority label as the prediction.\n",
    "            \n",
    "        return self.predictions\n"
   ]
  },
  {
   "cell_type": "code",
   "execution_count": 37,
   "metadata": {},
   "outputs": [
    {
     "data": {
      "text/plain": [
       "94.73684210526315"
      ]
     },
     "execution_count": 37,
     "metadata": {},
     "output_type": "execute_result"
    }
   ],
   "source": [
    "k_nn = K_NN(k=3)\n",
    "predictions = k_nn.classify_data()\n",
    "accuracy_score(predictions, test_y)*100"
   ]
  },
  {
   "cell_type": "code",
   "execution_count": null,
   "metadata": {
    "collapsed": true
   },
   "outputs": [],
   "source": []
  }
 ],
 "metadata": {
  "kernelspec": {
   "display_name": "Python 3",
   "language": "python",
   "name": "python3"
  },
  "language_info": {
   "codemirror_mode": {
    "name": "ipython",
    "version": 3
   },
   "file_extension": ".py",
   "mimetype": "text/x-python",
   "name": "python",
   "nbconvert_exporter": "python",
   "pygments_lexer": "ipython3",
   "version": "3.6.2"
  }
 },
 "nbformat": 4,
 "nbformat_minor": 1
}

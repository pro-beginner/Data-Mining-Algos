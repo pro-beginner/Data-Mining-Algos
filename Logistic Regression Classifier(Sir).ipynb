{
 "cells": [
  {
   "cell_type": "code",
   "execution_count": 34,
   "metadata": {},
   "outputs": [],
   "source": [
    "from sklearn.datasets import load_iris\n",
    "import numpy as ny\n",
    "import matplotlib.pyplot as plt\n",
    "from sklearn.preprocessing import MinMaxScaler\n",
    "from sklearn.cross_validation import train_test_split\n",
    "#%matplotlib inline"
   ]
  },
  {
   "cell_type": "code",
   "execution_count": 35,
   "metadata": {
    "collapsed": true
   },
   "outputs": [],
   "source": [
    "iris = load_iris()\n",
    "data = iris[\"data\"][:,:2]\n",
    "labels = iris[\"target\"]\n",
    "#data"
   ]
  },
  {
   "cell_type": "code",
   "execution_count": 36,
   "metadata": {},
   "outputs": [
    {
     "name": "stdout",
     "output_type": "stream",
     "text": [
      "150 2\n"
     ]
    }
   ],
   "source": [
    "N, M = data.shape\n",
    "print(N, M)"
   ]
  },
  {
   "cell_type": "code",
   "execution_count": 37,
   "metadata": {},
   "outputs": [
    {
     "data": {
      "text/plain": [
       "(150, 1)"
      ]
     },
     "execution_count": 37,
     "metadata": {},
     "output_type": "execute_result"
    }
   ],
   "source": [
    "Y = labels.reshape((N, 1))\n",
    "Y = ny.array(Y==2).astype(int)\n",
    "Y.shape"
   ]
  },
  {
   "cell_type": "code",
   "execution_count": 38,
   "metadata": {
    "collapsed": true
   },
   "outputs": [],
   "source": [
    "X = MinMaxScaler().fit_transform(data)"
   ]
  },
  {
   "cell_type": "code",
   "execution_count": 39,
   "metadata": {
    "collapsed": true
   },
   "outputs": [],
   "source": [
    "X = X.T"
   ]
  },
  {
   "cell_type": "code",
   "execution_count": 40,
   "metadata": {
    "collapsed": true
   },
   "outputs": [],
   "source": [
    "bias = ny.ones((1, N))"
   ]
  },
  {
   "cell_type": "code",
   "execution_count": 41,
   "metadata": {
    "collapsed": true
   },
   "outputs": [],
   "source": [
    "XB = ny.vstack((bias, X))"
   ]
  },
  {
   "cell_type": "code",
   "execution_count": 42,
   "metadata": {
    "collapsed": true
   },
   "outputs": [],
   "source": [
    "class LogisitcRegression:\n",
    "    def __init__(self, alpha, gens):\n",
    "        self.alpha = alpha\n",
    "        self.gens = gens\n",
    "    def sigmoid(self, x):\n",
    "        return 1.0/(1+ny.exp(-x))\n",
    "    def prediction(self):\n",
    "        return self.sigmoid(self.weights.T.dot(self.X).T)\n",
    "    def calculatePenalty(self):\n",
    "        self.H = self.prediction()\n",
    "        component1 = ny.sum(self.y*ny.log(self.H))\n",
    "        component2 = ny.sum((1-self.y)*ny.log(1-self.H))\n",
    "        return -ny.sum(component1 + component2)/self.N\n",
    "    def updateWeights(self):\n",
    "        nabla = self.alpha*((self.y - self.H).T.dot(self.X.T).T)\n",
    "        #print(nabla)\n",
    "        self.weights += nabla\n",
    "    def fit(self, X, y):\n",
    "        self.X = X\n",
    "        self.y = y\n",
    "        self.M, self.N = X.shape\n",
    "        self.weights = ny.zeros((self.M, 1))\n",
    "        #self.H = self.predict()\n",
    "        #print(H)  \n",
    "        #J = self.calculatePenalty()\n",
    "        #print(J)\n",
    "        #self.updateWeights()\n",
    "        #print(self.weights)\n",
    "        self.buffer = []\n",
    "        for g in ny.arange(self.gens):\n",
    "            self.buffer.append(self.calculatePenalty())\n",
    "            #print(self.calculatePenalty())\n",
    "            self.updateWeights()   \n",
    "            #print(self.weights)\n",
    "    def plotErrorCurve(self):\n",
    "        plt.plot(ny.array(self.buffer))\n",
    "    def predict(self, t):\n",
    "        return self.weights.T.dot(t)>=0.5\n",
    "    def getWeights(self):\n",
    "        return self.weights"
   ]
  },
  {
   "cell_type": "code",
   "execution_count": 43,
   "metadata": {
    "collapsed": true
   },
   "outputs": [],
   "source": [
    "clf = LogisitcRegression(alpha=0.001, gens=5000)"
   ]
  },
  {
   "cell_type": "code",
   "execution_count": 44,
   "metadata": {
    "collapsed": true
   },
   "outputs": [],
   "source": [
    "clf.fit(XB, Y)"
   ]
  },
  {
   "cell_type": "code",
   "execution_count": 45,
   "metadata": {
    "collapsed": true
   },
   "outputs": [],
   "source": [
    "clf.plotErrorCurve()"
   ]
  },
  {
   "cell_type": "code",
   "execution_count": 46,
   "metadata": {
    "collapsed": true
   },
   "outputs": [],
   "source": [
    "predictions = []\n",
    "for i in ny.arange(XB.shape[1]):\n",
    "    predictions.append(clf.predict(XB[:,i]))"
   ]
  },
  {
   "cell_type": "code",
   "execution_count": 47,
   "metadata": {},
   "outputs": [
    {
     "name": "stdout",
     "output_type": "stream",
     "text": [
      "[0 0 0 0 0 0 0 0 0 0 0 0 0 0 0 0 0 0 0 0 0 0 0 0 0 0 0 0 0 0 0 0 0 0 0 0 0\n",
      " 0 0 0 0 0 0 0 0 0 0 0 0 0 1 0 1 0 1 0 0 0 1 0 0 0 0 0 0 1 0 0 0 0 0 0 0 0\n",
      " 0 1 1 1 0 0 0 0 0 0 0 0 1 0 0 0 0 0 0 0 0 0 0 0 0 0 0 0 1 0 0 1 0 1 1 1 0\n",
      " 0 1 0 0 0 0 1 1 0 1 0 1 0 1 1 0 0 0 1 1 1 0 0 0 1 0 0 0 1 1 1 0 1 1 1 0 0\n",
      " 0 0]\n"
     ]
    }
   ],
   "source": [
    "print(ny.array(predictions).flatten().astype(int))"
   ]
  },
  {
   "cell_type": "code",
   "execution_count": 48,
   "metadata": {
    "collapsed": true
   },
   "outputs": [],
   "source": [
    "from sklearn.metrics import accuracy_score"
   ]
  },
  {
   "cell_type": "code",
   "execution_count": 49,
   "metadata": {
    "collapsed": true
   },
   "outputs": [],
   "source": [
    "score = accuracy_score(Y, predictions)"
   ]
  },
  {
   "cell_type": "code",
   "execution_count": 50,
   "metadata": {},
   "outputs": [
    {
     "name": "stdout",
     "output_type": "stream",
     "text": [
      "0.753333333333\n"
     ]
    }
   ],
   "source": [
    "print(score)"
   ]
  },
  {
   "cell_type": "code",
   "execution_count": 51,
   "metadata": {
    "collapsed": true
   },
   "outputs": [],
   "source": [
    "X = X.T"
   ]
  },
  {
   "cell_type": "code",
   "execution_count": 52,
   "metadata": {},
   "outputs": [
    {
     "name": "stdout",
     "output_type": "stream",
     "text": [
      "[ 0.          0.02040816  0.04081633  0.06122449  0.08163265  0.10204082\n",
      "  0.12244898  0.14285714  0.16326531  0.18367347  0.20408163  0.2244898\n",
      "  0.24489796  0.26530612  0.28571429  0.30612245  0.32653061  0.34693878\n",
      "  0.36734694  0.3877551   0.40816327  0.42857143  0.44897959  0.46938776\n",
      "  0.48979592  0.51020408  0.53061224  0.55102041  0.57142857  0.59183673\n",
      "  0.6122449   0.63265306  0.65306122  0.67346939  0.69387755  0.71428571\n",
      "  0.73469388  0.75510204  0.7755102   0.79591837  0.81632653  0.83673469\n",
      "  0.85714286  0.87755102  0.89795918  0.91836735  0.93877551  0.95918367\n",
      "  0.97959184  1.        ]\n"
     ]
    }
   ],
   "source": [
    "#print(X.shape)\n",
    "ax1_min, ax1_max = X[:,0].min(), X[:,0].max()\n",
    "ax = ny.linspace(ax1_min, ax1_max, 50)\n",
    "print(ax)"
   ]
  },
  {
   "cell_type": "code",
   "execution_count": 53,
   "metadata": {
    "scrolled": true
   },
   "outputs": [
    {
     "data": {
      "image/png": "[encoded data removed]",
      "text/plain": [
       "<matplotlib.figure.Figure at 0x11684b240>"
      ]
     },
     "metadata": {},
     "output_type": "display_data"
    }
   ],
   "source": [
    "markers = ['*','^']\n",
    "colours = ['red', 'black']\n",
    "#for i in ny.arange(len(markers)):\n",
    "    #plt.scatter(X[Y[:,0]==i, 0], X[Y[:,0]==i,1], marker=markers[i])\n",
    "W = clf.getWeights()\n",
    "line_vals = ny.zeros((50, 1))\n",
    "plt.plot(ax, line_vals,'k', linewidth=2)\n",
    "plt.show()    "
   ]
  },
  {
   "cell_type": "code",
   "execution_count": 54,
   "metadata": {
    "scrolled": true
   },
   "outputs": [
    {
     "data": {
      "image/png": "[encoded data removed]",
      "text/plain": [
       "<matplotlib.figure.Figure at 0x116900048>"
      ]
     },
     "metadata": {},
     "output_type": "display_data"
    }
   ],
   "source": [
    "markers = ['*','^']\n",
    "colours = ['red', 'black']\n",
    "for i in ny.arange(len(markers)):\n",
    "    plt.scatter(X[Y[:,0]==i, 0], X[Y[:,0]==i,1], marker=markers[i])\n",
    "W = clf.getWeights()\n",
    "line_vals = -(W[0,0]+W[1,0]*ax)/W[2,0]\n",
    "plt.plot(ax, line_vals,'k', linewidth=2)\n",
    "plt.show()    "
   ]
  },
  {
   "cell_type": "code",
   "execution_count": null,
   "metadata": {
    "collapsed": true
   },
   "outputs": [],
   "source": []
  }
 ],
 "metadata": {
  "kernelspec": {
   "display_name": "Python 3",
   "language": "python",
   "name": "python3"
  },
  "language_info": {
   "codemirror_mode": {
    "name": "ipython",
    "version": 3
   },
   "file_extension": ".py",
   "mimetype": "text/x-python",
   "name": "python",
   "nbconvert_exporter": "python",
   "pygments_lexer": "ipython3",
   "version": "3.6.2"
  }
 },
 "nbformat": 4,
 "nbformat_minor": 2
}
